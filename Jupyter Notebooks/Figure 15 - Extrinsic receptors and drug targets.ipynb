{
 "cells": [
  {
   "cell_type": "code",
   "execution_count": null,
   "metadata": {
    "code_folding": []
   },
   "outputs": [],
   "source": [
    "###General Code First Box\n",
    "import pandas as pd\n",
    "import numpy as np\n",
    "import scanpy as sc\n",
    "import magpy as mp\n",
    "import scipy.stats as stats\n",
    "\n",
    "def sort_list_by_pctexp(adata, gene_list, groupby='lineage'):\n",
    "    subset = adata[:,gene_list]\n",
    "    clusters = subset.obs[groupby].unique()\n",
    "    pctexp = np.zeros((len(clusters),subset.shape[1]))\n",
    "    for i,cluster in enumerate(clusters):\n",
    "        subset2 = subset[subset.obs[groupby]==cluster]\n",
    "        pctexp[i] = (subset2.layers['raw_normalized']>0).sum(axis=0).A1 / subset.shape[0]\n",
    "    subset.var['pctmax'] = pctexp.max(axis=0)\n",
    "    sorted_list = subset.var['pctmax'].sort_values(ascending=False).index.tolist()\n",
    "    return sorted_list\n",
    "def sort_list_by_mean(adata, gene_list, groupby='lineage'):\n",
    "    subset = adata[:,gene_list]\n",
    "    clusters = subset.obs[groupby].unique()\n",
    "    cmeans = np.zeros((len(clusters),subset.shape[1]))\n",
    "    for i,cluster in enumerate(clusters):\n",
    "        subset2 = subset[subset.obs[groupby]==cluster]\n",
    "        cmeans[i] = subset2.layers['raw_normalized'].mean(axis=0).A1\n",
    "    subset.var['cmeans'] = cmeans.max(axis=0)\n",
    "    sorted_list = subset.var['cmeans'].sort_values(ascending=False).index.tolist()\n",
    "    return sorted_list\n",
    "def means_to_df(adata, gene_list, save=None, groupby='lineage'):\n",
    "    subset = adata[:,gene_list]\n",
    "    clusters = subset.obs[groupby].unique()\n",
    "    cmeans = {}\n",
    "    for i,cluster in enumerate(clusters):\n",
    "        subset2 = subset[subset.obs[groupby]==cluster]\n",
    "        cmeans[cluster] = subset2.layers['raw_normalized'].mean(axis=0).A1\n",
    "    df = pd.DataFrame(cmeans,index=gene_list)\n",
    "    if save: df.to_csv(save)\n",
    "    return df\n",
    "\n",
    "combined_path = \"/proj/magness/CDS010-014-015_combined\"\n",
    "\n",
    "sc.set_figure_params(dpi_save = 300, format = 'svg')\n",
    "fig_path = exp_path+'drug-receptors'\n",
    "sc.settings.figdir = fig_path"
   ]
  },
  {
   "cell_type": "code",
   "execution_count": null,
   "metadata": {
    "code_folding": []
   },
   "outputs": [],
   "source": [
    "###Figure 15A\n",
    "### Top 5 genes from each major receptor family by lineage\n",
    "combined_path = \"/proj/magness/CDS010-014-015_combined\"\n",
    "adata = mp.load(combined_path, \"clustered_annotated_adata_k25_lr0.92_v1.5.h5ad\")\n",
    "\n",
    "subset = adata\n",
    "\n",
    "Gene_dict = {\n",
    "    'NH Receptors':['HNF4G',\t'PPARA',\t'ESRRA',\t'HNF4A',\t'VDR'],\n",
    "    'VGICs':['CACNA1A',\t'TRPM5',\t'KCNQ1',\t'SCN3A',\t'KCNMA1'],\n",
    "    'LGICs':['ITPR2',\t'GABRP',\t'HTR3E',\t'GABRA4',\t'SCNN1A'],\n",
    "    'Other ICs':['CFTR', 'AQP3', 'AQP8', 'CLCN3', 'AQP1'],\n",
    "    'GPCRs':['ADGRG6',\t'ADGRG4',\t'RAMP1',\t'GPR160',\t'VIPR1'],\n",
    "    'IL Receptors':['IL13RA1', 'IL17RB', 'SIGIRR', 'IL2RG', 'IL20RA'],\n",
    "    'Integrins':['ITGB1', 'ITGA6', 'ITGB4', 'ITGB5', 'ITGAV'],\n",
    "    'RTKs':['INSR',\t'KIT',\t'ERBB3',\t'ERBB2',\t'EPHB2'],\n",
    "    'RTPs':['PTPRJ', 'PTPRF', 'PTPRN2', 'PTPRA', 'PTPRK'],\n",
    "    'TNFRs':['TNFRSF14', 'TNFRSF11B', 'TNFRSF1A', 'TNFRSF11A', 'LTBR'],\n",
    "    'TLRs':['TLR9','TLR3','TLR4','TLR5','TLR1'],\n",
    "    'NODL':['NLRP1','CIITA', 'NLRC5', 'NLRX1', 'NOD1']\n",
    "}\n",
    "subset = mp.scale_adata(subset, groupby = 'lineage')\n",
    "subset.obs.lineage = subset.obs.lineage.cat.reorder_categories(['SI_AE2','SI_matureAE','SI_intermAE','SI_earlyAE', 'SI_BEST4','SI_FAE','SI_tuft','SI_EEC','SI_goblet','SI_TA2','SI_TA','SI_ISC', 'SI_secretory_prog','SI_paneth','C_lateACC', 'C_earlyACC','C_BEST4','C_tuft','C_EEC', 'C_goblet','C_TA','C_ISC', 'C_secretory_prog'])\n",
    "\n",
    "sc.pl.dotplot(subset, var_names=Gene_dict, groupby = 'lineage', swap_axes=False, layer='raw_scaled',save='Top5ReceptReorder')\n"
   ]
  }
 ],
 "metadata": {
  "kernelspec": {
   "display_name": "RNAseq Python",
   "language": "python",
   "name": "rnaseq"
  },
  "language_info": {
   "codemirror_mode": {
    "name": "ipython",
    "version": 3
   },
   "file_extension": ".py",
   "mimetype": "text/x-python",
   "name": "python",
   "nbconvert_exporter": "python",
   "pygments_lexer": "ipython3",
   "version": "3.8.5"
  }
 },
 "nbformat": 4,
 "nbformat_minor": 4
}
