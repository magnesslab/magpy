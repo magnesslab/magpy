{
 "cells": [
  {
   "cell_type": "code",
   "execution_count": null,
   "metadata": {
    "ExecuteTime": {
     "end_time": "2021-12-21T15:21:19.784737Z",
     "start_time": "2021-12-21T15:21:18.043389Z"
    },
    "init_cell": true
   },
   "outputs": [],
   "source": [
    "# Import libraries\n",
    "import os\n",
    "import magpy as mp\n",
    "import scanpy as sc\n",
    "import numpy as np\n",
    "import pandas as pd\n",
    "import anndata as ad\n",
    "import diffxpy.api as de\n",
    "import matplotlib.pyplot as plt\n",
    "\n",
    "expt_path = \"/proj/magness/\"\n",
    "cds010_path = \"/proj/magness/CDS010_hashtag\"\n",
    "cds014_path = \"/proj/magness/CDS014_hashtag\"\n",
    "cds015_path = \"/proj/magness/CDS015_hashtag\"\n",
    "combined_path = \"/proj/magness/CDS010-014-015_combined\"\n",
    "\n",
    "figdir = combined_path+'/figures/computational_supp_figs/'\n",
    "sc.settings.figdir = figdir"
   ]
  },
  {
   "cell_type": "code",
   "execution_count": null,
   "metadata": {
    "ExecuteTime": {
     "end_time": "2021-11-22T19:36:50.042753Z",
     "start_time": "2021-11-22T19:36:30.441140Z"
    },
    "code_folding": [],
    "tags": []
   },
   "outputs": [],
   "source": [
    "### COPY AND ANNOTATE RAW DATA ###\n",
    "\n",
    "# mp.pipeline.copy_data(expt_path=expt_path, sample_ID='m-014')\n",
    "# mp.pipeline.copy_data(expt_path=expt_path, sample_ID='m-019')\n",
    "# mp.pipeline.copy_data(expt_path=expt_path, sample_ID='m-021')\n",
    "\n",
    "# mp.pipeline.annotate(cds010_path, sample_ID='m-014',hash_clusters=7, save = False, write_pfx = 'Donor2_CDS010')\n",
    "# mp.pipeline.annotate(cds014_path, sample_ID='m-019',hash_clusters=6, save = False)\n",
    "mp.pipeline.annotate(cds015_path, sample_ID='m-021',hash_clusters=7, save = False)"
   ]
  },
  {
   "cell_type": "code",
   "execution_count": null,
   "metadata": {
    "ExecuteTime": {
     "end_time": "2021-11-24T16:33:26.655660Z",
     "start_time": "2021-11-24T16:33:23.265135Z"
    },
    "code_folding": [],
    "tags": []
   },
   "outputs": [],
   "source": [
    "### PREPROCESS AND FILTER/PREPROCESS DATA ###\n",
    "\n",
    "## FILTER ##\n",
    "\n",
    "# #CDS010: Filter out negative cells\n",
    "adata10 = mp.load(cds010_path,1)\n",
    "print(adata10)\n",
    "adata10 = adata10[adata10.obs['hash_label'] != 'Negative',:]\n",
    "print(adata10)\n",
    "\n",
    "# #CDS014: Call Negative cells in hash_cluster 0 as transverse colon, filter out remaining negatives\n",
    "adata14 = mp.load(cds014_path,1)\n",
    "# print(adata14)\n",
    "tc_mask = (adata14.obs['hash_label'] == 'Negative') & (adata14.obs['hash_cluster'] == 0)\n",
    "adata14.obs['hash_label'] = adata14.obs['hash_label'].mask(tc_mask,'TotalSeq-B0256')\n",
    "adata14 = adata14[adata14.obs['hash_label'] != 'Negative',:]\n",
    "# print(adata14)\n",
    "\n",
    "# # #CDS015: Filter out negative cells\n",
    "adata15 = mp.load(cds015_path,1)\n",
    "# print(adata15)\n",
    "adata15 = adata15[adata15.obs['hash_label'] != 'Negative',:]\n",
    "# print(adata15)\n",
    "\n",
    "\n",
    "## PREPROCESS AND SAVE ##\n",
    "\n",
    "#CDS010\n",
    "# mp.settings.max_percent_mito = 50\n",
    "# mp.settings.min_counts_per_cell = 1000\n",
    "# mp.settings.max_counts_per_cell = 30000\n",
    "# mp.settings.min_genes_per_cell = 800\n",
    "# mp.pipeline.preprocess(cds010_path, data=adata10, sample_ID='m-014', save = False)\n",
    "\n",
    "# #CDS014\n",
    "# mp.settings.min_counts_per_cell = 3000\n",
    "# mp.settings.max_counts_per_cell = 50000\n",
    "# mp.settings.max_percent_mito = 75\n",
    "# mp.settings.min_genes_per_cell = 500\n",
    "mp.pipeline.preprocess(cds014_path, data=adata14, sample_ID='m-019', save = False)\n",
    "\n",
    "# #CDS015\n",
    "# mp.settings.min_counts_per_cell = 3000\n",
    "# mp.settings.max_counts_per_cell = 50000\n",
    "# mp.settings.max_percent_mito = 75\n",
    "# mp.settings.min_genes_per_cell = 500\n",
    "mp.pipeline.preprocess(cds015_path, data=adata15, sample_ID='m-021', save = False)"
   ]
  },
  {
   "cell_type": "code",
   "execution_count": null,
   "metadata": {
    "ExecuteTime": {
     "end_time": "2021-04-17T16:37:14.343910Z",
     "start_time": "2021-04-17T16:37:14.126391Z"
    },
    "code_folding": []
   },
   "outputs": [],
   "source": [
    "### DISPLAY COUNTS AFTER FILTERING\n",
    "\n",
    "def count(series):\n",
    "    unique, counts = np.unique(series.to_numpy(), return_counts=True)\n",
    "    return(dict(zip(unique, counts)))\n",
    "\n",
    "adata10 = mp.load(cds010_path,2)\n",
    "adata14 = mp.load(cds014_path,2)\n",
    "adata15 = mp.load(cds015_path,2)\n",
    "\n",
    "print('Donor 10 counts per region')\n",
    "foo = count(adata10.obs['hash_label'])\n",
    "totalfoo = 0\n",
    "for key in foo:\n",
    "    print(f\"{key} - {foo[key]}\")\n",
    "    totalfoo += foo[key]\n",
    "print(f\"Total - {totalfoo}\")\n",
    "print()\n",
    "\n",
    "print('Donor 14 counts per region')\n",
    "bar = count(adata14.obs['hash_label'])\n",
    "totalbar = 0\n",
    "for key in bar:\n",
    "    print(f\"{key} - {bar[key]}\")\n",
    "    totalbar += bar[key]\n",
    "print(f\"Total - {totalbar}\")\n",
    "print()\n",
    "\n",
    "print('Donor 15 counts per region')\n",
    "bar = count(adata15.obs['hash_label'])\n",
    "totalbar = 0\n",
    "for key in bar:\n",
    "    print(f\"{key} - {bar[key]}\")\n",
    "    totalbar += bar[key]\n",
    "print(f\"Total - {totalbar}\")"
   ]
  },
  {
   "cell_type": "code",
   "execution_count": null,
   "metadata": {
    "ExecuteTime": {
     "end_time": "2021-04-18T14:38:47.838668Z",
     "start_time": "2021-04-18T14:38:46.423452Z"
    },
    "code_folding": [
     0
    ]
   },
   "outputs": [],
   "source": [
    "### COMBINE DONORS AND SAVE ###\n",
    "\n",
    "adata10 = mp.load(cds010_path,2)\n",
    "adata14 = mp.load(cds014_path,2)\n",
    "adata15 = mp.load(cds015_path,2)\n",
    "\n",
    "adata10.obs['donor'] = \"CDS010\"\n",
    "donor10_map = {\n",
    "    'TotalSeq-B0251':\"Duo\",\n",
    "    'TotalSeq-B0252':\"Jej\",\n",
    "    'TotalSeq-B0253':\"Ile\",\n",
    "    'TotalSeq-B0254':\"AC\",\n",
    "    'TotalSeq-B0255':\"TC\",\n",
    "    'TotalSeq-B0256':\"DC\"}\n",
    "adata10.obs['region'] = adata10.obs['hash_label'].map(donor10_map)\n",
    "\n",
    "adata14.obs['donor'] = \"CDS014\"\n",
    "donor14_map = {\n",
    "    'TotalSeq-B0251':\"Duo\",\n",
    "    'TotalSeq-B0252':\"Jej\",\n",
    "    'TotalSeq-B0253':\"Ile\",\n",
    "    'TotalSeq-B0254':\"AC\",\n",
    "    'TotalSeq-B0255':\"DC\",\n",
    "    'TotalSeq-B0256':\"TC\"}\n",
    "adata14.obs['region'] = adata14.obs['hash_label'].map(donor14_map)\n",
    "\n",
    "adata15.obs['donor'] = \"CDS015\"\n",
    "donor15_map = {\n",
    "    'TotalSeq-B0251':\"Duo\",\n",
    "    'TotalSeq-B0252':\"Jej\",\n",
    "    'TotalSeq-B0253':\"Ile\",\n",
    "    'TotalSeq-B0254':\"AC\",\n",
    "    'TotalSeq-B0255':\"DC\",\n",
    "    'TotalSeq-B0256':\"TC\"}\n",
    "adata15.obs['region'] = adata15.obs['hash_label'].map(donor15_map)\n",
    "\n",
    "adata = adata10.concatenate(adata14, adata15, join='outer')\n",
    "mp.save(adata,combined_path,2)"
   ]
  },
  {
   "cell_type": "code",
   "execution_count": null,
   "metadata": {
    "ExecuteTime": {
     "end_time": "2021-04-18T15:09:05.257384Z",
     "start_time": "2021-04-18T14:56:51.737881Z"
    },
    "code_folding": []
   },
   "outputs": [],
   "source": [
    "### PROCESS DATASETS ###\n",
    "##tODO: Reprocess datasets using standardized normalization factor\n",
    "\n",
    "# mp.pipeline.process(cds010_path)\n",
    "# mp.pipeline.process(cds010_path,regress_cell_cycle=True,write_file=\"processed_adata_cc-regressed.h5ad\")\n",
    "\n",
    "# mp.pipeline.process(cds014_path)\n",
    "# mp.pipeline.process(cds014_path,regress_cell_cycle=True,write_file=\"processed_adata_cc-regressed.h5ad\")\n",
    "\n",
    "# mp.pipeline.process(combined_path, write_file=\"combined_processed_adata.h5ad\")\n",
    "# mp.pipeline.process(combined_path, regress_cell_cycle=True, write_file=\"combined_processed_adata_cc-regressed.h5ad\")"
   ]
  },
  {
   "cell_type": "code",
   "execution_count": null,
   "metadata": {
    "ExecuteTime": {
     "end_time": "2021-04-18T15:25:52.521548Z",
     "start_time": "2021-04-18T15:24:22.068508Z"
    },
    "code_folding": [],
    "tags": []
   },
   "outputs": [],
   "source": [
    "### PROCESS AND CLUSTER SEPARATE DATA ###\n",
    "\n",
    "rf = \"combined_processed_adata_cc-regressed.h5ad\"\n",
    "mp.settings.leiden_resolution = 0.8\n",
    "mp.sett\n",
    "\n",
    "\n",
    "# mp.pipeline.cluster(cds010_path)\n",
    "# mp.pipeline.cluster(cds014_path)\n",
    "# mp.pipeline.cluster(cds015_path)\n",
    "\n",
    "mp.settings.num_neighbors = 10\n",
    "mp.pipeline.cluster(combined_path,read_file=rf,write_file=\"clustered_adata_k10.h5ad\",harmonize=True)\n",
    "\n",
    "mp.settings.num_neighbors = 25\n",
    "mp.pipeline.cluster(combined_path,read_file=rf,write_file=\"clustered_adata_k25.h5ad\",harmonize=True)\n",
    "\n",
    "mp.settings.num_neighbors = 50\n",
    "mp.pipeline.cluster(combined_path,read_file=rf,write_file=\"clustered_adata_k50.h5ad\",harmonize=True)\n"
   ]
  },
  {
   "cell_type": "code",
   "execution_count": null,
   "metadata": {
    "ExecuteTime": {
     "end_time": "2021-04-19T14:43:27.654288Z",
     "start_time": "2021-04-19T14:43:25.551003Z"
    },
    "code_folding": [
     0
    ],
    "tags": []
   },
   "outputs": [],
   "source": [
    "### DISPLAY PER-DONOR CONTRIBUTIONS ###\n",
    "\n",
    "adata = mp.load(combined_path,\"clustered_adata_k25.h5ad\")\n",
    "\n",
    "sc.pl.umap(adata,color='leiden')\n",
    "sc.pl.umap(adata,color=['leiden','phase','region','donor'],ncols=2)\n",
    "\n",
    "for donor in adata.obs['donor'].unique():\n",
    "    print(donor)\n",
    "    subset = adata[adata.obs['donor']==donor,:]\n",
    "    sc.pl.umap(subset,color=['region'])"
   ]
  }
 ],
 "metadata": {
  "celltoolbar": "Initialization Cell",
  "kernelspec": {
   "display_name": "RNAseq Python",
   "language": "python",
   "name": "rnaseq"
  },
  "language_info": {
   "codemirror_mode": {
    "name": "ipython",
    "version": 3
   },
   "file_extension": ".py",
   "mimetype": "text/x-python",
   "name": "python",
   "nbconvert_exporter": "python",
   "pygments_lexer": "ipython3",
   "version": "3.8.5"
  }
 },
 "nbformat": 4,
 "nbformat_minor": 4
}
