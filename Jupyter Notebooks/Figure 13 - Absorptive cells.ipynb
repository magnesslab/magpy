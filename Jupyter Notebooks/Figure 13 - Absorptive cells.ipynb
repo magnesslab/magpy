{
 "cells": [
  {
   "cell_type": "code",
   "execution_count": null,
   "metadata": {
    "code_folding": []
   },
   "outputs": [],
   "source": [
    "# Import libraries & configure settings\n",
    "import magpy as mp\n",
    "import os\n",
    "import scanpy as sc\n",
    "import pandas as pd\n",
    "import anndata as ad\n",
    "import matplotlib.pyplot as plt\n",
    "import scvelo as scv\n",
    "import diffxpy.api as de\n",
    "import numpy as np\n",
    "import sklearn\n",
    "\n",
    "combined_path = \"/proj/magness/CDS010-014-015_combined/\"\n",
    "\n",
    "#Saving figures as SVGs\n",
    "sc.set_figure_params(dpi_save = 300, format = 'svg')\n",
    "fig_path = combined_path+'AE-ACC-panels'\n",
    "sc.settings.figdir = fig_path\n",
    "\n",
    "adata = mp.load(combined_path, 'clustered_annotated_adata_k25_lr0.92_v1.5.h5ad')\n",
    "\n",
    "sep = '-----------------------------------------------------------------------------------------------------'"
   ]
  },
  {
   "cell_type": "code",
   "execution_count": null,
   "metadata": {},
   "outputs": [],
   "source": [
    "def sort_list_by_mean(adata, gene_list, groupby='lineage'):\n",
    "    subset = adata[:,gene_list]\n",
    "    clusters = subset.obs[groupby].unique()\n",
    "    cmeans = np.zeros((len(clusters),subset.shape[1]))\n",
    "    for i,cluster in enumerate(clusters):\n",
    "        subset2 = subset[subset.obs[groupby]==cluster]\n",
    "        cmeans[i] = subset2.layers['raw_normalized'].mean(axis=0).A1\n",
    "    subset.var['cmeans'] = cmeans.max(axis=0)\n",
    "    sorted_list = subset.var['cmeans'].sort_values(ascending=False).index.tolist()\n",
    "    return sorted_list\n"
   ]
  },
  {
   "cell_type": "code",
   "execution_count": null,
   "metadata": {},
   "outputs": [],
   "source": [
    "### Panel 13A - \"Pan-absorptive\" Heatmap for All ACCs vs. All AEs DEGs ###\n",
    "\n",
    "# Define SI and colon subsets\n",
    "SI_subset = adata[adata.obs.organ=='SI']\n",
    "C_subset = adata[adata.obs.organ=='Colon']\n",
    "subset = adata[adata.obs.type=='absorptive'] # Includes Early, Intermediate, Mature AEs and Early and Late ACCs. Doesn't include AE2s.\n",
    "\n",
    "gene_dict = {\n",
    "    'Absorptive_genes':['CA2',\t'AKR1B10',\t'SLC4A4',\t'PCK1',\t'PFKFB2'],\n",
    "    'SI_abs_diff_genes':['ALDOB',\t'MTTP',\t'DPEP1',\t'MME',\t'FOLH1',\t'APOB',\t'TM4SF4',\t'MGAM',\t'SLC7A7',\t'APOA4',\t'SLC2A2',\t'VNN1',\t'APOA1',\t'RBP2',\t'CREB3L3',\t'CPS1',\t'CYP3A4',\t'LCT',\t'MAF',\t'HLA-DRA'],\n",
    "    'C_abs_diff_genes':['NXPE1',\t'MUC5B',\t'NXPE4',\t'LEFTY1',\t'VSIG2',\t'MUC4',\t'CEACAM5',\t'CA12',\t'C10orf99',\t'MUC12',\t'CKB',\t'SLC26A2',\t'FXYD3',\t'SATB2',\t'CD24',\t'FABP5',\t'PLCB4',\t'LDHB',\t'TFCP2L1',\t'MUC1']\n",
    "}\n",
    "\n",
    "subset.obs.organ.cat.reorder_categories(['SI','Colon'], inplace=True)\n",
    "\n",
    "sc.pl.heatmap(subset, gene_dict, groupby = 'organ', swap_axes = True, show_gene_labels = True, cmap = mp.blues, standard_scale = 'var') #save = 'PanAbsorptive_Heatmap'\n"
   ]
  },
  {
   "cell_type": "code",
   "execution_count": null,
   "metadata": {},
   "outputs": [],
   "source": [
    "##Figure 13B\n",
    "adata = mp.load(combined_path, \"clustered_annotated_adata_k25_lr0.92_v1.5.h5ad\")\n",
    "\n",
    "subset = adata[adata.obs['lineage'].isin(['SI_earlyAE','SI_intermAE','SI_matureAE','SI_AE2'])\n",
    "\n",
    "sc.pl.umap(subset, color = ['lineage'])\n",
    "sc.pl.umap(subset, color = ['region'])"
   ]
  },
  {
   "cell_type": "code",
   "execution_count": null,
   "metadata": {
    "code_folding": []
   },
   "outputs": [],
   "source": [
    "###Figure 13C\n",
    "###AE2 DEGs\n",
    "adata = mp.load(combined_path, \"clustered_annotated_adata_k25_lr0.92_v1.5.h5ad\")\n",
    "\n",
    "\n",
    "subset = adata[adata.obs['organ']=='SI',:]\n",
    "\n",
    "gene_list = mp.filter_genes(adata, [\n",
    "'APOB','APOA4','SI','FABP2','ANPEP','APOC3','PRAP1',\n",
    "    'FABP6','TMIGD1','PLB1','CUBN','SLC10A2','CLCA4','SLC13A1','FAM151A','SLC13A1','SLC17A8'   \n",
    "])\n",
    "\n",
    "subset = mp.scale_adata(subset, groupby = 'lineage')\n",
    "\n",
    "sc.pl.dotplot(subset, var_names=gene_list, groupby = 'lineage', swap_axes=True, layer='raw_scaled', save=\"AE2_dotplot\")\n"
   ]
  },
  {
   "cell_type": "code",
   "execution_count": null,
   "metadata": {},
   "outputs": [],
   "source": [
    "##Figure 13D #Amino_Acid\n",
    "subset = adata[adata.obs.lineage.isin(['SI_earlyAE','SI_intermAE','SI_matureAE','C_earlyCC','C_lateCC'])]\n",
    "\n",
    "#lipids\n",
    "gene_list = mp.filter_genes(adata, ['APOA4','APOA1','APOB','FABP2','PCK1','MTTP','PDK4','DGAT1','APOC3','ACSL5','PCK2','LPGAT1','CREB3L3','GK','MFSD2A','SCARB1','CD36','FABP1'])\n",
    "\n",
    "#Amino Acids\n",
    "gene_list = mp.filter_genes(adata, ['SLC15A1','SLC6A19','SLC7A7','SLC3A1','SLC3A2','SLC25A15','SLC6A6','SLC7A8','SLC7A9','SLC36A1','SLC38A10','SLC38A10','SLC7A1','SLC25A38','SLC43A2','SLC25A29','SLC25A38','SLC43A2','SLC1A5','SLC25A12','SLC38A4','SLC25A12'])\n",
    "\n",
    "#sugars\n",
    "gene_list = mp.filter_genes(adata, ['SLC5A1','SLC2A5','SLC2A2','SLC5A9','SLC23A1','SLC5A4','SLC2A9','SLC25A11','SLC2A10'])\n",
    "\n",
    "##Cholesterol\n",
    "gene_list = mp.filter_genes(adata, ['NPC1L1','SCARB1','ABCG5','ABCG8'])\n",
    "\n",
    "## Digestive Enzymes\n",
    "gene_list = mp.filter_genes(adata, ['ANPEP', 'SI', 'LCT', 'MGAM', 'ENPEP', 'DPP4', 'PEPD', 'ALPI', 'LIPA','TMPRSS15'])\n",
    "\n",
    "## Aquaporins\n",
    "gene_list = mp.filter_genes(adata, ['AQP1','AQP3','AQP10','AQP7','AQP11','AQP8'])\n",
    "\n",
    "## Ion Transporters  \n",
    "gene_list = mp.filter_genes(adata, ['SLC25A3','SLC12A6','SLC26A3','SLC26A2','SLC4A4','SLC20A2','SLC9A3R1','SLC9A6','SLC34A2','SLC24A1','SCN9A','SCNN1D','SCNN1A','SCNN1G','SCNN1B')]\n",
    "\n",
    "\n",
    "gene_list = sort_list_by_mean(subset, gene_list, groupby='region')\n",
    "\n",
    "sc.pl.dotplot(subset, var_names=gene_list, groupby = 'region')\n"
   ]
  },
  {
   "cell_type": "code",
   "execution_count": null,
   "metadata": {},
   "outputs": [],
   "source": [
    "### Panel 13E - Barrier Function (Cell Junctions)###\n",
    "\n",
    "combined_path = \"/proj/magness/CDS010-014-015_combined/\"\n",
    "adata = mp.load(combined_path, \"clustered_annotated_adata_k25_lr0.92_v1.5.h5ad\")\n",
    "subset = adata[adata.obs.lineage.isin(['SI_earlyAE','SI_intermAE','SI_matureAE','C_earlyACC','C_lateACC'])]\n",
    "subset = mp.scale_adata(subset,groupby='region')\n",
    "\n",
    "# Manually re-sort the top 20 sorted by means to emphasize regional trends\n",
    "gene_list = ['CTNNA1','CTNNB1','PKP3','JUP','CLDN15','DSP','TJP2','ITGB4','MARVELD3','CGN','CTNND1','CDH1','DST','DSC2','PKP2','ITGA6','CLDN7','CLDN3','CLDN4','DSG2']\n",
    "sc.pl.dotplot(subset, var_names=gene_list,groupby = 'region',layer = 'raw_scaled') #save = \"Cell_Junction_AEs_ACCs_v2\" \n",
    "\n"
   ]
  },
  {
   "cell_type": "code",
   "execution_count": null,
   "metadata": {
    "code_folding": []
   },
   "outputs": [],
   "source": [
    "### Panel 13F,G - Aquaporins: ACCs vs AEs by region and lineage ###\n",
    "adata = mp.load(combined_path, \"clustered_annotated_adata_k25_lr0.92_v1.5.h5ad\")\n",
    "subset = adata[adata.obs.lineage.isin(['SI_earlyAE','SI_intermAE','SI_matureAE','C_earlyACC','C_lateACC'])]\n",
    "subset = mp.scale_adata(subset,groupby='region')\n",
    "\n",
    "# Manual ordering of AQP by region\n",
    "gene_list = ['AQP1','AQP3','AQP10','AQP7','AQP11','AQP8']\n",
    "sc.pl.dotplot(subset, var_names=gene_list,groupby = 'region',layer = 'raw_scaled') #save = \"AQP_AEs_ACCs_Region_v2\"\n",
    "\n",
    "# Manual ordering of AQP (for all cell lineages)\n",
    "adata = mp.scale_adata(adata)\n",
    "adata.obs.lineage = adata.obs.lineage.cat.reorder_categories(['SI_ISC','SI_TA','SI_TA2','SI_earlyAE','SI_intermAE','SI_matureAE','SI_AE2','SI_paneth', 'SI_tuft','SI_secretory_prog','SI_goblet','SI_EEC', 'SI_FAE', 'SI_BEST4','C_ISC','C_TA', 'C_earlyACC','C_lateACC', 'C_tuft','C_secretory_prog','C_goblet','C_EEC','C_BEST4'])\n",
    "sc.pl.dotplot(adata, var_names=gene_list,groupby = 'lineage',swap_axes=True,layer = 'raw_scaled') #save = \"AQP_AEs_ACCs_Lineage\""
   ]
  },
  {
   "cell_type": "code",
   "execution_count": null,
   "metadata": {},
   "outputs": [],
   "source": [
    "### Panel 13H - AQP8 UMAP by pseudotime (subpopulation of LateACC) ###\n",
    "\n",
    "adata = mp.load(combined_path, \"clustered_annotated_adata_k25_lr0.92_v1.42.h5ad\") #experimental version for pseudotime\n",
    "subset = adata[adata.obs['lineage']=='C_lateCC',:]\n",
    "sc.pl.umap(subset, color=['dpt_pseudotime','AQP8'], cmap = mp.reds) #save = \"AQP_pseudotime_UMAP\""
   ]
  }
 ],
 "metadata": {
  "kernelspec": {
   "display_name": "RNAseq Python",
   "language": "python",
   "name": "rnaseq"
  },
  "language_info": {
   "codemirror_mode": {
    "name": "ipython",
    "version": 3
   },
   "file_extension": ".py",
   "mimetype": "text/x-python",
   "name": "python",
   "nbconvert_exporter": "python",
   "pygments_lexer": "ipython3",
   "version": "3.8.5"
  }
 },
 "nbformat": 4,
 "nbformat_minor": 4
}
