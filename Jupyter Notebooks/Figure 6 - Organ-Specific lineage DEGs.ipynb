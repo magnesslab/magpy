{
 "cells": [
  {
   "cell_type": "code",
   "execution_count": null,
   "metadata": {
    "code_folding": []
   },
   "outputs": [],
   "source": [
    "###General Code First Box\n",
    "import pandas as pd\n",
    "import numpy as np\n",
    "import scanpy as sc\n",
    "import magpy as mp\n",
    "import scipy.stats as stats\n",
    "\n",
    "def sort_list_by_pctexp(adata, gene_list, groupby='lineage'):\n",
    "    subset = adata[:,gene_list]\n",
    "    clusters = subset.obs[groupby].unique()\n",
    "    pctexp = np.zeros((len(clusters),subset.shape[1]))\n",
    "    for i,cluster in enumerate(clusters):\n",
    "        subset2 = subset[subset.obs[groupby]==cluster]\n",
    "        pctexp[i] = (subset2.layers['raw_normalized']>0).sum(axis=0).A1 / subset.shape[0]\n",
    "    subset.var['pctmax'] = pctexp.max(axis=0)\n",
    "    sorted_list = subset.var['pctmax'].sort_values(ascending=False).index.tolist()\n",
    "    return sorted_list\n",
    "def sort_list_by_mean(adata, gene_list, groupby='lineage'):\n",
    "    subset = adata[:,gene_list]\n",
    "    clusters = subset.obs[groupby].unique()\n",
    "    cmeans = np.zeros((len(clusters),subset.shape[1]))\n",
    "    for i,cluster in enumerate(clusters):\n",
    "        subset2 = subset[subset.obs[groupby]==cluster]\n",
    "        cmeans[i] = subset2.layers['raw_normalized'].mean(axis=0).A1\n",
    "    subset.var['cmeans'] = cmeans.max(axis=0)\n",
    "    sorted_list = subset.var['cmeans'].sort_values(ascending=False).index.tolist()\n",
    "    return sorted_list\n",
    "def means_to_df(adata, gene_list, save=None, groupby='lineage'):\n",
    "    subset = adata[:,gene_list]\n",
    "    clusters = subset.obs[groupby].unique()\n",
    "    cmeans = {}\n",
    "    for i,cluster in enumerate(clusters):\n",
    "        subset2 = subset[subset.obs[groupby]==cluster]\n",
    "        cmeans[cluster] = subset2.layers['raw_normalized'].mean(axis=0).A1\n",
    "    df = pd.DataFrame(cmeans,index=gene_list)\n",
    "    if save: df.to_csv(save)\n",
    "    return df\n",
    "\n",
    "combined_path = \"/proj/magness/CDS010-014-015_combined\"\n",
    "\n",
    "sc.set_figure_params(dpi_save = 300, format = 'svg')\n",
    "fig_path = combined_path+'fig5-6-MarkerDEGs/'\n",
    "sc.settings.figdir = fig_path"
   ]
  },
  {
   "cell_type": "code",
   "execution_count": null,
   "metadata": {
    "code_folding": []
   },
   "outputs": [],
   "source": [
    "###Fig 6\n",
    "###UMAPS for DEGs from each lineage\n",
    "adata = mp.load(combined_path, \"clustered_annotated_adata_k25_lr0.92_v1.5.h5ad\")\n",
    "\n",
    "gene_list = mp.filter_genes(adata, ['LGR5','DEFA5','DEFA6','PRSS2','REG3A','MT1G','CPA2','SULT1E1','ALDOB','MTTP','APOA4','RBP2','SLC5A1','ABCA4','REG4','SLC16A7','MELTF','GABRP','CIART','CHGA','CHGB','CCK','GNPTAB','CPNE8','SLC26A2','FABP5','CA12','SLC38A1','MUC5B','MUC1','MUC4','WFDC2','TNFRSF11B','BEST2','AFAP1L2','TIMP1','ITGB5','PYY','GCG'\n",
    "])\n",
    "\n",
    "sc.set_figure_params(dpi_save = 300, format = 'svg')\n",
    "fig_path = '/home/joseph/'\n",
    "sc.settings.figdir = fig_path+'ISC-TA-Panels/'\n",
    "sc.pl.umap(adata,color=gene_list, ncols=5,cmap=mp.reds, save='ISC_TA_competence_umaps')"
   ]
  }
 ],
 "metadata": {
  "kernelspec": {
   "display_name": "RNAseq Python",
   "language": "python",
   "name": "rnaseq"
  },
  "language_info": {
   "codemirror_mode": {
    "name": "ipython",
    "version": 3
   },
   "file_extension": ".py",
   "mimetype": "text/x-python",
   "name": "python",
   "nbconvert_exporter": "python",
   "pygments_lexer": "ipython3",
   "version": "3.8.5"
  }
 },
 "nbformat": 4,
 "nbformat_minor": 4
}
