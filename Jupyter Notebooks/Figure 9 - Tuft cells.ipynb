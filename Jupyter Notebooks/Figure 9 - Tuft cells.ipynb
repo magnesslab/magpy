{
 "cells": [
  {
   "cell_type": "code",
   "execution_count": null,
   "metadata": {
    "code_folding": []
   },
   "outputs": [],
   "source": [
    "### IMPORT LIBRARIES ###\n",
    "import os\n",
    "import math\n",
    "import magpy as mp\n",
    "import scanpy as sc\n",
    "import numpy as np\n",
    "import pandas as pd\n",
    "import anndata as ad\n",
    "import matplotlib.pyplot as plt\n",
    "\n",
    "expt_path = \"/proj/magness/CDS010-014-015_combined\"\n",
    "contrast_palette = ['#00ff7f','#b22222','#b8b8b8','#f0e68c','#705000','#00bfff','#dda0dd','#00ffff','#ccccff',\n",
    "                    '#ff0000','#808000','#3cb371','#a97a67','#ff8c00','#ffd700','#02026e','#adff2f','#4169e1',\n",
    "                    '#ffa07a','#2f4f4f','#7f007f','#6e6e6e','#ff00ff']\n",
    "##Setting figure output parameters\n",
    "sc.set_figure_params(dpi_save = 300, dpi = 200, format = 'svg')\n",
    "sc.settings.figdir = expt_path+'/figures/'"
   ]
  },
  {
   "cell_type": "code",
   "execution_count": null,
   "metadata": {},
   "outputs": [],
   "source": [
    "## Fig 4A-F defining Tuft cell gene lists Tuft cell DEG heatmap\n",
    "\n",
    "## Tuft Cell Figure dictionaries\n",
    "\n",
    "tuft_a = {\n",
    "    'tuft_markers':\n",
    "    ['SH2D6','LRMP','HPGDS','HLA-B','FYB1','BMX','AZGP1','AVIL','IFI6','PTGS1','ALOX5','ALOX5AP','ITPR2','TRPM5','HLA-E','KIT','KITLG','POU2F3','GNG13','DEFB1'],\n",
    "    'SI_tuft':\n",
    "    ['GABRA4','GABRP','RAB27B','KRT20','GNAT3','APOC2','TM4SF4','FAM3B','MT1G','CCL25','MELTF','MT2A','VIPR1','SERPINA1','SPINK1','MT1E'],\n",
    "    'C_tuft':\n",
    "    ['CA7','SNORC','AFAP1L2','LDHB','FXYD3','PAK3','C15orf48','GLRX','ANXA3','PHF20L1','KLK11','HTR3C','TMEM54','TIMP1','TMEM63A','OGDHL','PDCD4','COL27A1','ZG16B','MAP7','SPAG9','EHF','DEFA5','LITAF']\n",
    "}\n",
    "\n",
    "tuft_b = {\n",
    "    'Taste GPCRs':\n",
    "    ['SUCNR1','TAS1R1','TAS1R3','GNAT3','GNB1','GNG13'],\n",
    "    'Taste signal transduction':\n",
    "    ['PDE4D','PLCB2','LRMP','ITPR2','TRPM5'],\n",
    "    'Effectors':\n",
    "    ['IL25','GJC3','CALHM1','CALHM2','CALHM3']\n",
    "}\n",
    "\n",
    "tuft_d = {\n",
    "    'Ubiquitin-mediated proteasomal degradation':\n",
    "    ['SKP1','CUL3','FBXO32','RBX1','CTSL','PSMD9','RNF14','RNF144B','HECTD1'],\n",
    "    'MHC-1 antigen presentation':\n",
    "    ['HLA-A','HLA-B','HLA-C','HLA-E','ITGB5','CD14'],\n",
    "    'TLR':\n",
    "    ['TLR4','TLR9','TLR5'],\n",
    "    'IL-receptors':\n",
    "    ['SIGIRR','IL13RA1','IL4R','IL17RB','IL17RA','IL25','IL27RA','IL6ST']\n",
    "}\n",
    "\n",
    "tuft_e = ['CHGA','LYZ','ITLN1','DEFB1','PRSS3','PLA2G2A','DEFA5','CAMP','DEFA6','LCN2']\n",
    "\n",
    "tuft_f = {\n",
    "    'ACh':\n",
    "    ['CHAT','SLC18A3','NCAM1'],\n",
    "    'Leukotriene':\n",
    "    ['PLA2G4A','PLA2G12A','ALOX5','ALOX5AP','LTC4S','LTA4H','GPR17'],\n",
    "    'PGD2 biosynthesis':\n",
    "    ['PLA2G4A','PTGS1','HPGDS'],\n",
    "}\n"
   ]
  },
  {
   "cell_type": "code",
   "execution_count": null,
   "metadata": {},
   "outputs": [],
   "source": [
    "### Figure 4A - Tuft cell DEGs \n",
    "adata = mp.load(combined_path, 'clustered_annotated_adata_k25_lr0.92_v1.5.h5ad')\n",
    "adata.obs.organ.cat.reorder_categories(['SI','Colon'],inplace=True)\n",
    "subset = adata[adata.obs.type=='tuft']\n",
    "# sc.pl.heatmap(subset, tuft_afc, groupby = 'organ', swap_axes = True, show_gene_labels = True, cmap = mp.blues, save = '_RJB_tuft_panel_A_v2')"
   ]
  },
  {
   "cell_type": "code",
   "execution_count": null,
   "metadata": {},
   "outputs": [],
   "source": [
    "### Figure 4B - Tuft cell differential taste signal transduction\n",
    "adata = mp.load(combined_path, 'clustered_annotated_adata_k25_lr0.92_v1.5.h5ad')\n",
    "\n",
    "adata = mp.scale_adata(adata, groupby = 'lineage')\n",
    "subset = adata[adata.obs.type.isin(['tuft','paneth','goblet','BEST4','EEC','nan'])]\n",
    "subset.obs.lineage.cat.reorder_categories(['SI_tuft','C_tuft','SI_BEST4','C_BEST4','SI_paneth','SI_EEC','C_EEC','SI_goblet','C_goblet','SI_secretory_prog','C_secretory_prog'], inplace=True)\n",
    "\n",
    "# sc.pl.dotplot(subset, tuft_d, groupby = 'lineage', cmap = 'Reds', swap_axes = True, layer = 'raw_scaled', save = 'RJB_tuft_panel_B')"
   ]
  },
  {
   "cell_type": "code",
   "execution_count": null,
   "metadata": {},
   "outputs": [],
   "source": [
    "### Figure 4D - Tuft cell broad immune response\n",
    "adata = mp.load(combined_path, 'clustered_annotated_adata_k25_lr0.92_v1.5.h5ad')\n",
    "\n",
    "adata = mp.scale_adata(adata, groupby = 'lineage')\n",
    "subset = adata[adata.obs.type.isin(['tuft','paneth','goblet','BEST4','EEC','nan'])]\n",
    "subset.obs.lineage.cat.reorder_categories(['SI_tuft','C_tuft','SI_BEST4','C_BEST4','SI_paneth','SI_EEC','C_EEC','SI_goblet','C_goblet','SI_secretory_prog','C_secretory_prog'], inplace=True)\n",
    "\n",
    "# sc.pl.dotplot(subset, tuft_d, groupby = 'lineage', cmap = 'Reds', swap_axes = True, layer = 'raw_scaled', save = 'RJB_tuft_panel_d')"
   ]
  },
  {
   "cell_type": "code",
   "execution_count": null,
   "metadata": {},
   "outputs": [],
   "source": [
    "### Figure 4E - Tuft cell antimicrobial peptides\n",
    "adata = mp.load(combined_path, 'clustered_annotated_adata_k25_lr0.92_v1.5.h5ad')\n",
    "\n",
    "adata = mp.scale_adata(adata, groupby = 'lineage')\n",
    "subset = adata[adata.obs.organ=='Colon']\n",
    "subset.obs.lineage.cat.reorder_ca### Figure 4F - Tuft cell biosynthesis from mouse\n",
    "adata = mp.load(combined_path, 'clustered_annotated_adata_k25_lr0.92_v1.5.h5ad')\n",
    "\n",
    "adata = mp.scale_adata(adata, groupby = 'lineage')\n",
    "subset = adata[adata.obs.type.isin(['tuft','paneth','goblet','BEST4','EEC','nan'])]\n",
    "subset.obs.lineage.cat.reorder_categories(['SI_tuft','C_tuft','SI_BEST4','C_BEST4','SI_paneth','SI_EEC','C_EEC','SI_goblet','C_goblet','SI_secretory_prog','C_secretory_prog'], inplace=True)\n",
    "\n",
    "# sc.pl.dotplot(subset, tuft_f, groupby = 'lineage', cmap = 'Reds', swap_axes = True, layer = 'raw_scaled', save = 'RJB_tuft_panel_f')tegories(['C_ISC','C_TA','C_earlyACC','C_lateACC','C_tuft','C_secretory_prog','C_goblet','C_EEC','C_BEST4'], inplace=True)\n",
    "\n",
    "# sc.pl.dotplot(subset, tuft_e, groupby = 'lineage', cmap = 'Reds', swap_axes = True, layer = 'raw_scaled', save = 'RJB_tuft_panel_e')"
   ]
  },
  {
   "cell_type": "code",
   "execution_count": null,
   "metadata": {},
   "outputs": [],
   "source": []
  }
 ],
 "metadata": {
  "kernelspec": {
   "display_name": "RNAseq Python",
   "language": "python",
   "name": "rnaseq"
  },
  "language_info": {
   "codemirror_mode": {
    "name": "ipython",
    "version": 3
   },
   "file_extension": ".py",
   "mimetype": "text/x-python",
   "name": "python",
   "nbconvert_exporter": "python",
   "pygments_lexer": "ipython3",
   "version": "3.8.5"
  }
 },
 "nbformat": 4,
 "nbformat_minor": 4
}
