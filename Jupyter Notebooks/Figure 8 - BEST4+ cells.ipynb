{
 "cells": [
  {
   "cell_type": "code",
   "execution_count": null,
   "metadata": {},
   "outputs": [],
   "source": [
    "### IMPORT LIBRARIES ###\n",
    "import magpy as mp\n",
    "import scanpy as sc\n",
    "import matplotlib.pyplot as plt\n",
    "import numpy as np\n",
    "\n",
    "expt_path = \"/proj/magness/CDS010-014-015_combined\"\n",
    "sc.set_figure_params(dpi_save = 300, format = 'svg')\n",
    "fig_path = combined_path+'fig8_BEST4s/'\n",
    "sc.settings.figdir = fig_path"
   ]
  },
  {
   "cell_type": "code",
   "execution_count": null,
   "metadata": {},
   "outputs": [],
   "source": [
    "### PEARSON CORRELATION FUNCTION ###\n",
    "import scipy.stats as stats\n",
    "import pandas as pd\n",
    "from scipy.stats import rankdata\n",
    "\n",
    "def bh_correct(pvals):\n",
    "    ranked_pvals = rankdata(pvals)\n",
    "    adjusted_pvals = (pvals * len(pvals)) / ranked_pvals\n",
    "    adjusted_pvals[adjusted_pvals>1] = 1\n",
    "    return(adjusted_pvals)\n",
    "\n",
    "def test_correlation(subset1, gene1, subset2, gene2=None):\n",
    "    \n",
    "    #Get list of donor_regions\n",
    "    regions = subset1.obs.donor_region.unique().tolist()\n",
    "    \n",
    "    #Initialize matrices\n",
    "    X = np.zeros(len(regions))\n",
    "    if gene2: Y = np.zeros(len(regions))\n",
    "    else: Y = np.zeros((subset2.shape[1],len(regions)))\n",
    "\n",
    "    #Calcualte means\n",
    "    for i,region in enumerate(regions):\n",
    "        X[i] = subset1[subset1.obs.donor_region==region,gene1].layers['raw_normalized'].toarray().mean()\n",
    "        if gene2: Y[i] = subset2[subset2.obs.donor_region==region,gene2].layers['raw_normalized'].toarray().mean()\n",
    "        else: Y[:,i] = subset2[subset2.obs.donor_region==region,:].layers['raw_normalized'].toarray().mean(axis=0)\n",
    "    \n",
    "    #Calculate Pearson coefficient(s)\n",
    "    if gene2:\n",
    "        r_val,p_val = stats.pearsonr(X, Y)\n",
    "        mean = Y.mean()\n",
    "        stdev = Y.std()\n",
    "        results = pd.Series([r_val,p_val,mean,stdev],index=['r_val','p_val','mean','stdev'])\n",
    "        return results\n",
    "    else:\n",
    "        r_vals = np.zeros(Y.shape[0])\n",
    "        p_vals = np.zeros(Y.shape[0])\n",
    "        means = np.zeros(Y.shape[0])\n",
    "        stdevs = np.zeros(Y.shape[0])\n",
    "        for j in range(Y.shape[0]):\n",
    "            r,p = stats.pearsonr(X, Y[j])\n",
    "            r_vals[j] = r\n",
    "            p_vals[j] = p\n",
    "            means[j] = Y[j].mean()\n",
    "            stdevs[j] = Y[j].std()\n",
    "        results = pd.DataFrame({'r_val':r_vals, 'p_val':p_vals, 'mean':means, 'stdev':stdevs}, index=subset2.var.index)\n",
    "        return results.sort_values(by='r_val',ascending=False)"
   ]
  },
  {
   "cell_type": "code",
   "execution_count": null,
   "metadata": {},
   "outputs": [],
   "source": [
    "### PANEL A - Heatmap of differences between SI and Colon ###\n",
    "\n",
    "#Load and subset data\n",
    "adata = mp.load(expt_path, \"clustered_annotated_adata_k25_lr0.92_v1.5.h5ad\")\n",
    "subset = adata[adata.obs['type']=='BEST4']\n",
    "\n",
    "#Gene lists\n",
    "shared_genes = ['BEST4','OTOP2','GUCA2A','NOTCH2','HES1','HES4','GMNN','CA7','NBPF14','NBPF19','ADRA2A','QSOX1',\n",
    "                'GPRC5C','CEACAM6','FKBP1A','RNASET2','S100A10','NEURL1','SDCBP2','RHOV']\n",
    "\n",
    "si_genes = ['ADGRG4','KRT72','NPY','CPA2','FAM3B','GP2','CCL25','CFTR','CLU','MT1H','ALDOB',\n",
    "            'CLDN15','ANXA13','RAMP1','ALDH1A1','LYZ']\n",
    "\n",
    "c_genes = ['CEACAM7','C10orf99','MUC5B','SOD3','NXPE1','SLPI','CKB','MUC12','LEFTY1','VSIG2',\n",
    "           'CA12','SATB2','HK2','CELF2','GNPTAB','FABP5','FABP1','CA4']\n",
    "\n",
    "all_genes =  shared_genes+si_genes+c_genes\n",
    "\n",
    "#Plotting\n",
    "subset.obs.organ.cat.reorder_categories(['SI','Colon'],inplace=True)\n",
    "\n",
    "sc.pl.heatmap(subset, all_genes, groupby='organ', save=\"_colon-v-SI-markers.svg\",\n",
    "                  swap_axes=True, show_gene_labels=True, standard_scale='var',cmap=mp.blues)\n",
    "\n",
    "# sc.pl.dotplot(adata, shared_genes, groupby='lineage',swap_axes=True, standard_scale='var')"
   ]
  },
  {
   "cell_type": "code",
   "execution_count": null,
   "metadata": {},
   "outputs": [],
   "source": [
    "### PANEL B,F - PSEUDOTIME EXPRESSION ###\n",
    "adata = mp.load(expt_path, \"clustered_annotated_adata_k25_lr0.92_v1.42.h5ad\")\n",
    "\n",
    "sc.pl.umap(adata[adata.obs.lineage=='SI_BEST4'],color=['dpt_pseudotime','BEST4','NPY','GUCA2A','GUCA2B','BMP3'],\n",
    "           cmap=mp.reds,ncols=2, save='_NPY-GUC-pseudotime_v2.svg')"
   ]
  },
  {
   "cell_type": "code",
   "execution_count": null,
   "metadata": {},
   "outputs": [],
   "source": [
    "### PANEL E - GUC and NPY Expression ###\n",
    "\n",
    "# adata_pt = mp.load(expt_path, \"clustered_annotated_adata_k25_lr0.92_v1.5.h5ad\")\n",
    "adata = mp.load(expt_path, \"clustered_annotated_adata_k25_lr0.92_v1.5.h5ad\")\n",
    "adata = mp.scale_adata(adata,groupby='lineage')\n",
    "\n",
    "sc.set_figure_params(dpi_save = 300, format = 'svg')\n",
    "fig_path = '/home/joseph/'\n",
    "sc.settings.figdir = fig_path+'ISC-TA-Panels/'\n",
    "\n",
    "sc.pl.dotplot(adata,['GUCA2A','GUCA2B','NPY','BMP3'],groupby='lineage',swap_axes=True,layer='raw_scaled',save=\"_NPY-GUC_v2.svg\")\n",
    "sc.pl.dotplot(adata,['NPY1R','GUCY2C','ACVR2B'],groupby='lineage',swap_axes=True,layer='raw_scaled',save=\"_NPY-GUC-BMP.svg\")"
   ]
  },
  {
   "cell_type": "code",
   "execution_count": null,
   "metadata": {},
   "outputs": [],
   "source": [
    "### PANEL G - CORRELATION ANALYSIS ###\n",
    "\n",
    "adata = mp.load(expt_path, \"clustered_annotated_adata_k25_lr0.92_v1.5.h5ad\")\n",
    "    \n",
    "#Reorder donor-region to be more interpretable\n",
    "donor_regions = []\n",
    "for i in [1,2,3]:\n",
    "    donor_regions = donor_regions + [f'Donor {i}_Duo',f'Donor {i}_Jej',f'Donor {i}_Ile']\n",
    "\n",
    "print(\"SI BEST4\")\n",
    "subset = adata[adata.obs.lineage=='SI_BEST4']\n",
    "subset.obs['donor_region'].cat.reorder_categories(donor_regions,inplace=True)\n",
    "subset = mp.scale_adata(subset, groupby='donor_region', layer='raw_scaled')\n",
    "sc.pl.dotplot(subset,['NPY','ADRA2A'],groupby='donor_region',swap_axes=True,layer='raw_scaled')#, save='_NPY-by-donor_v2.svg')\n",
    "\n",
    "print(\"All SI absorptive\")\n",
    "subset = adata[(adata.obs.type=='absorptive') & (adata.obs.organ=='SI')]\n",
    "subset.obs['donor_region'].cat.reorder_categories(donor_regions,inplace=True)\n",
    "subset = mp.scale_adata(subset, groupby='donor_region', layer='raw_scaled')\n",
    "sc.pl.dotplot(subset,['SI','APOA4'],groupby='donor_region',swap_axes=True,layer='raw_scaled')#,save='_SI-APOv2.svg')"
   ]
  },
  {
   "cell_type": "code",
   "execution_count": null,
   "metadata": {},
   "outputs": [],
   "source": [
    "### PANEL F - Metal Binding and Dynamins ###\n",
    "adata = mp.load(expt_path, \"clustered_annotated_adata_k25_lr0.92_v1.5.h5ad\")\n",
    "\n",
    "gene_list = ['MT1E','MT1F','MT1G','MT1H','MT1M','MT1X','MT2A','STEAP2']\n",
    "gene_list = mp.sort_list_by_mean(adata,gene_list) + ['DNM1','DNM2']\n",
    "\n",
    "adata = mp.scale_adata(adata)\n",
    "sc.pl.dotplot(adata, gene_list, groupby='lineage', swap_axes=True, layer='raw_scaled',save=\"_metal_v2.svg\")\n"
   ]
  }
 ],
 "metadata": {
  "kernelspec": {
   "display_name": "RNAseq Python",
   "language": "python",
   "name": "rnaseq"
  },
  "language_info": {
   "codemirror_mode": {
    "name": "ipython",
    "version": 3
   },
   "file_extension": ".py",
   "mimetype": "text/x-python",
   "name": "python",
   "nbconvert_exporter": "python",
   "pygments_lexer": "ipython3",
   "version": "3.8.5"
  }
 },
 "nbformat": 4,
 "nbformat_minor": 4
}
