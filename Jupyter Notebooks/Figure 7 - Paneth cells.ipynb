{
 "cells": [
  {
   "cell_type": "code",
   "execution_count": null,
   "metadata": {
    "code_folding": []
   },
   "outputs": [],
   "source": [
    "###General Code First Box\n",
    "import pandas as pd\n",
    "import numpy as np\n",
    "import scanpy as sc\n",
    "import magpy as mp\n",
    "import scipy.stats as stats\n",
    "\n",
    "def sort_list_by_pctexp(adata, gene_list, groupby='lineage'):\n",
    "    subset = adata[:,gene_list]\n",
    "    clusters = subset.obs[groupby].unique()\n",
    "    pctexp = np.zeros((len(clusters),subset.shape[1]))\n",
    "    for i,cluster in enumerate(clusters):\n",
    "        subset2 = subset[subset.obs[groupby]==cluster]\n",
    "        pctexp[i] = (subset2.layers['raw_normalized']>0).sum(axis=0).A1 / subset.shape[0]\n",
    "    subset.var['pctmax'] = pctexp.max(axis=0)\n",
    "    sorted_list = subset.var['pctmax'].sort_values(ascending=False).index.tolist()\n",
    "    return sorted_list\n",
    "def sort_list_by_mean(adata, gene_list, groupby='lineage'):\n",
    "    subset = adata[:,gene_list]\n",
    "    clusters = subset.obs[groupby].unique()\n",
    "    cmeans = np.zeros((len(clusters),subset.shape[1]))\n",
    "    for i,cluster in enumerate(clusters):\n",
    "        subset2 = subset[subset.obs[groupby]==cluster]\n",
    "        cmeans[i] = subset2.layers['raw_normalized'].mean(axis=0).A1\n",
    "    subset.var['cmeans'] = cmeans.max(axis=0)\n",
    "    sorted_list = subset.var['cmeans'].sort_values(ascending=False).index.tolist()\n",
    "    return sorted_list\n",
    "def means_to_df(adata, gene_list, save=None, groupby='lineage'):\n",
    "    subset = adata[:,gene_list]\n",
    "    clusters = subset.obs[groupby].unique()\n",
    "    cmeans = {}\n",
    "    for i,cluster in enumerate(clusters):\n",
    "        subset2 = subset[subset.obs[groupby]==cluster]\n",
    "        cmeans[cluster] = subset2.layers['raw_normalized'].mean(axis=0).A1\n",
    "    df = pd.DataFrame(cmeans,index=gene_list)\n",
    "    if save: df.to_csv(save)\n",
    "    return df\n",
    "\n",
    "combined_path = \"/proj/magness/CDS010-014-015_combined\"\n",
    "\n",
    "sc.set_figure_params(dpi_save = 300, format = 'svg')\n",
    "fig_path = combined_path+'fig7_Paneths/'\n",
    "sc.settings.figdir = fig_path"
   ]
  },
  {
   "cell_type": "code",
   "execution_count": null,
   "metadata": {
    "code_folding": []
   },
   "outputs": [],
   "source": [
    "##Figure 7A\n",
    "### PC DEG heatmap only across SI\n",
    "\n",
    "adata = mp.load(combined_path, \"clustered_annotated_adata_k25_lr0.92_v1.5.h5ad\")\n",
    "\n",
    "Gene_dict = {\n",
    "    'Paneth':['DEFA5',\t'ITLN2',\t'DEFA6',\t'PRSS2',\t'REG3A',\t'RETNLB',\t'PLA2G2A',\t'IFI30',\t'PSMG1',\t'YIPF2',\t'FKBP11','AMOT',\t'NOTUM'\n",
    "]}\n",
    "subset = adata[adata.obs['lineage'].isin(['SI_paneth'])]\n",
    "\n",
    "sc.pl.heatmap(subset, Gene_dict, groupby = 'region', swap_axes = True, show_gene_labels = True, standard_scale='var',cmap=mp.blues,save='PC_UMAP')"
   ]
  },
  {
   "cell_type": "code",
   "execution_count": null,
   "metadata": {
    "code_folding": []
   },
   "outputs": [],
   "source": [
    "###Figure 7B\n",
    "###LYZ not proper marker for human Paneth Cells\n",
    "adata = mp.load(combined_path, \"clustered_annotated_adata_k25_lr0.92_v1.5.h5ad\")\n",
    "\n",
    "\n",
    "adata.obs.lineage = adata.obs.lineage.cat.reorder_categories(['SI_FAE','SI_BEST4','SI_paneth','SI_tuft','SI_ISC','SI_TA','SI_TA2','SI_earlyAE','SI_intermAE','SI_matureAE','SI_AE2','SI_secretory_prog','SI_goblet','SI_EEC','C_ISC','C_TA', 'C_earlyACC','C_lateACC', 'C_tuft','C_secretory_prog','C_goblet','C_EEC','C_BEST4'])\n",
    "\n",
    "subset = adata[adata.obs['lineage'].isin(['SI_paneth','SI_BEST4','SI_FAE','SI_tuft'])]\n",
    "\n",
    "\n",
    "gene_list = mp.filter_genes(subset, ['LYZ'])\n",
    "subset = mp.scale_adata(subset, groupby = 'lineage')\n",
    "\n",
    "sc.pl.dotplot(subset, var_names=gene_list, groupby = 'lineage', swap_axes=True, layer='raw_scaled',save='PC_Lyz')"
   ]
  },
  {
   "cell_type": "code",
   "execution_count": null,
   "metadata": {
    "code_folding": []
   },
   "outputs": [],
   "source": [
    "###Figure 7C\n",
    "###Paneth Cells Distinct from Goblet or BEST4\n",
    "adata = mp.load(combined_path, \"clustered_annotated_adata_k25_lr0.92_v1.5.h5ad\")\n",
    "subset = adata[adata.obs['lineage'].isin(['SI_paneth','SI_BEST4','SI_goblet'])]\n",
    "\n",
    "\n",
    "Gene_dict = {\n",
    "    'Paneth':['LYZ','DEFA5','DEFA6','ITLN2','PRSS2','PLA2G2A'],\n",
    "    'Goblet':['SPDEF','ATOH1','MUC2','TFF3','SPINK4','CLCA1','FCGBP','AGR2'],\n",
    "    'BEST4':['BEST4','SPIB','CA7','CFTR']\n",
    "}\n",
    "subset = mp.scale_adata(subset, groupby = 'lineage')\n",
    "\n",
    "sc.pl.dotplot(subset, var_names=Gene_dict, groupby = 'lineage', swap_axes=False, layer='raw_scaled',save='PCnotBEST4')\n"
   ]
  },
  {
   "cell_type": "code",
   "execution_count": null,
   "metadata": {
    "code_folding": []
   },
   "outputs": [],
   "source": [
    "###Figure 7D\n",
    "###Expected Paneth Cell niche factors from mouse papers\n",
    "adata = mp.load(combined_path, \"clustered_annotated_adata_k25_lr0.92_v1.5.h5ad\")\n",
    "subset = adata[adata.obs['organ']=='SI',:]\n",
    "Gene_list = mp.filter_genes(subset, [\n",
    "'WNT3','WNT11','TGFA','EGF','DLL1','DLL4','CSF2','RSPO1'\n",
    "])\n",
    "subset = mp.scale_adata(subset, groupby = 'lineage')\n",
    "\n",
    "sc.pl.dotplot(subset, var_names=Gene_list, groupby = 'lineage', swap_axes=True, layer='raw_scaled',save='PC_expected_niche')\n"
   ]
  },
  {
   "cell_type": "code",
   "execution_count": null,
   "metadata": {
    "code_folding": []
   },
   "outputs": [],
   "source": [
    "###Supp Fig 7E\n",
    "###Few GFs expresed highest in PCs \n",
    "adata = mp.load(combined_path, \"clustered_annotated_adata_k25_lr0.92_v1.5.h5ad\")\n",
    "adata.obs.lineage = adata.obs.lineage.cat.reorder_categories(['SI_ISC','SI_TA','SI_TA2','SI_earlyAE','SI_intermAE','SI_matureAE','SI_AE2','SI_paneth', 'SI_tuft','SI_secretory_prog','SI_goblet','SI_EEC', 'SI_FAE', 'SI_BEST4','C_ISC','C_TA', 'C_earlyACC','C_lateACC', 'C_tuft','C_secretory_prog','C_goblet','C_EEC','C_BEST4'])\n",
    "subset = adata[adata.obs['organ']=='SI',:]\n",
    "\n",
    "gene_list = (['WNT2B','WNT7B','DLL1','DLL3','DLL4','JAG1','JAG2','BTC','EGFL7','EGFL8','LRIG2','LRIG3','TGFA','FGF7','FGF9','FGF18','FGF22','IHH','BMP1','BMP2','BMP3','BMP4','GDF9','GDF11','GDF15','NRTN','PSPN','TGFB3','LEFTY1','EFNA1','EFNA3','EFNA4','EFNB1','EFNB2'])\n",
    "subset = mp.scale_adata(subset, groupby = 'lineage')\n",
    "\n",
    "sc.pl.dotplot(subset, var_names=gene_list, groupby = 'lineage', swap_axes=True, layer='raw_scaled',save='PC_no_GFs')\n",
    "\n"
   ]
  },
  {
   "cell_type": "code",
   "execution_count": null,
   "metadata": {
    "code_folding": []
   },
   "outputs": [],
   "source": [
    "###Figure 7F\n",
    "### ISC genes in PCs\n",
    "adata = mp.load(combined_path, \"clustered_annotated_adata_k25_lr0.92_v1.5.h5ad\")\n",
    "Gene_dict = {\n",
    "    'Paneth':['LYZ','DEFA5',\t'ITLN2',\t'DEFA6',\t'PRSS2',\t'PLA2G2A',\t'REG3A'],\n",
    "    'Shared':['LGR5','SMOC2','ASCL2','RGMB'],\n",
    "    'ISC':['OLFM4',\t'RARRES2',\t'CEL',\t'PIWIL2',\t'GDF15',\t'CLDN2',\t'ARID5B',\t'SEMA3C',\t'VDR',\t'STOX1',\t'HMGCS2']\n",
    "}\n",
    "subset = adata[adata.obs['lineage'].isin(['SI_ISC','SI_paneth'])]\n",
    "\n",
    "subset = mp.scale_adata(subset, groupby = 'lineage')\n",
    "\n",
    "sc.pl.heatmap(subset, Gene_dict, groupby = 'lineage', swap_axes = True, show_gene_labels = True,standard_scale='var',cmap=mp.blues,save='PC_ISC_genes-ISConly')"
   ]
  },
  {
   "cell_type": "code",
   "execution_count": null,
   "metadata": {
    "code_folding": []
   },
   "outputs": [],
   "source": [
    "###Figure 7H\n",
    "####Paneth cell FZD9\n",
    "adata = mp.load(combined_path, \"clustered_annotated_adata_k25_lr0.92_v1.5.h5ad\")\n",
    "\n",
    "subset = adata[adata.obs['organ']=='SI',:]\n",
    "\n",
    "gene_list = mp.filter_genes(subset, [\n",
    "'FZD1','FZD2','FZD3','FZD4','FZD5','FZD6','FZD7','FZD8','FZD9','FZD10'\n",
    "])\n",
    "gene_list = sort_list_by_mean(subset, gene_list, groupby='lineage')\n",
    "subset = mp.scale_adata(subset, groupby = 'lineage')\n",
    "\n",
    "sc.pl.dotplot(subset, var_names=gene_list, groupby = 'lineage', swap_axes=True, layer='raw_scaled',save='PC_FZDs')\n"
   ]
  },
  {
   "cell_type": "code",
   "execution_count": null,
   "metadata": {
    "code_folding": []
   },
   "outputs": [],
   "source": [
    "###Figure 7I\n",
    "####Reactome_antimicrobial_peptides in SI PCs\n",
    "adata = mp.load(combined_path, \"clustered_annotated_adata_k25_lr0.92_v1.5.h5ad\")\n",
    "\n",
    "subset = adata[adata.obs['organ']=='SI',:]\n",
    "\n",
    "gene_list = mp.filter_genes(subset, [\n",
    "'DEFA5','DEFA6','REG3A','CHGA','LYZ','PRSS2','ITLN1','PLA2G2A','PRSS3','DEFB1'\n",
    "])\n",
    "gene_list = sort_list_by_mean(subset, gene_list, groupby='lineage')\n",
    "subset = mp.scale_adata(subset, groupby = 'lineage')\n",
    "\n",
    "sc.pl.dotplot(subset, var_names=gene_list, groupby = 'lineage', swap_axes=True, layer='raw_scaled',save='PC_antimicrob')\n"
   ]
  }
 ],
 "metadata": {
  "kernelspec": {
   "display_name": "RNAseq Python",
   "language": "python",
   "name": "rnaseq"
  },
  "language_info": {
   "codemirror_mode": {
    "name": "ipython",
    "version": 3
   },
   "file_extension": ".py",
   "mimetype": "text/x-python",
   "name": "python",
   "nbconvert_exporter": "python",
   "pygments_lexer": "ipython3",
   "version": "3.8.5"
  }
 },
 "nbformat": 4,
 "nbformat_minor": 4
}
