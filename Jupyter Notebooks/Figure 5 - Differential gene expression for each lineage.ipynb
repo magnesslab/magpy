{
 "cells": [
  {
   "cell_type": "code",
   "execution_count": null,
   "metadata": {
    "code_folding": []
   },
   "outputs": [],
   "source": [
    "###General Code First Box\n",
    "import pandas as pd\n",
    "import numpy as np\n",
    "import scanpy as sc\n",
    "import magpy as mp\n",
    "import scipy.stats as stats\n",
    "\n",
    "def sort_list_by_pctexp(adata, gene_list, groupby='lineage'):\n",
    "    subset = adata[:,gene_list]\n",
    "    clusters = subset.obs[groupby].unique()\n",
    "    pctexp = np.zeros((len(clusters),subset.shape[1]))\n",
    "    for i,cluster in enumerate(clusters):\n",
    "        subset2 = subset[subset.obs[groupby]==cluster]\n",
    "        pctexp[i] = (subset2.layers['raw_normalized']>0).sum(axis=0).A1 / subset.shape[0]\n",
    "    subset.var['pctmax'] = pctexp.max(axis=0)\n",
    "    sorted_list = subset.var['pctmax'].sort_values(ascending=False).index.tolist()\n",
    "    return sorted_list\n",
    "def sort_list_by_mean(adata, gene_list, groupby='lineage'):\n",
    "    subset = adata[:,gene_list]\n",
    "    clusters = subset.obs[groupby].unique()\n",
    "    cmeans = np.zeros((len(clusters),subset.shape[1]))\n",
    "    for i,cluster in enumerate(clusters):\n",
    "        subset2 = subset[subset.obs[groupby]==cluster]\n",
    "        cmeans[i] = subset2.layers['raw_normalized'].mean(axis=0).A1\n",
    "    subset.var['cmeans'] = cmeans.max(axis=0)\n",
    "    sorted_list = subset.var['cmeans'].sort_values(ascending=False).index.tolist()\n",
    "    return sorted_list\n",
    "def means_to_df(adata, gene_list, save=None, groupby='lineage'):\n",
    "    subset = adata[:,gene_list]\n",
    "    clusters = subset.obs[groupby].unique()\n",
    "    cmeans = {}\n",
    "    for i,cluster in enumerate(clusters):\n",
    "        subset2 = subset[subset.obs[groupby]==cluster]\n",
    "        cmeans[cluster] = subset2.layers['raw_normalized'].mean(axis=0).A1\n",
    "    df = pd.DataFrame(cmeans,index=gene_list)\n",
    "    if save: df.to_csv(save)\n",
    "    return df\n",
    "\n",
    "combined_path = \"/proj/magness/CDS010-014-015_combined\"\n",
    "\n",
    "sc.set_figure_params(dpi_save = 300, format = 'svg')\n",
    "fig_path = combined_path+'fig5-6-MarkerDEGs/'\n",
    "sc.settings.figdir = fig_path\n"
   ]
  },
  {
   "cell_type": "code",
   "execution_count": null,
   "metadata": {
    "code_folding": []
   },
   "outputs": [],
   "source": [
    "###Figure 5\n",
    "### Dotplots for each celltype marker DEGs\n",
    "combined_path = \"/proj/magness/CDS010-014-015_combined\"\n",
    "adata = mp.load(combined_path, \"clustered_annotated_adata_k25_lr0.92_v1.5.h5ad\")\n",
    "\n",
    "gene_list = mp.filter_genes(adata, [\n",
    "'SERPINA11','PTCHD1','PIK3R5','MATK','PTGS1','TLR9','RGS13','LPA','GNG13','CREG2','FAT3','TAS1R3','ALOX12B','HMX3','LRMP','KLK13','SH2D6','HPGDS','HTR3C','ANXA1'\n",
    "])\n",
    "\n",
    "####Records for each cell type\n",
    "####Switch out gene_list for each lineage and generate each lineage dotplot separately\n",
    "# ISC:'LGR5',\t'GDF15',\t'ASCL2',\t'RGMB',\t'ALDH1B1',\t'RARRES2',\t'PDZK1IP1',\t'RPL5',\t'CDK6',\t'RNF43',\t'RPL12',\t'QPRT',\t'NOB1',\t'RPS3',\t'NACA',\t'RPL14',\t'RPS4X',\t'RPS5',\t'RPL26',\t'RPL3',\t'RPL13',\t'BTF3',\t'RPS10',\t'EIF3E',\t'RPS14',\t'RPL35A',\t'RPL29',\t'RACK1',\t'RPL39',\t'RPS9',\t'RPS18',\t'RPL34',\t'RPS3A',\t'RPS25',\t'RPL18',\t'RPS12',\t'RPS2',\t'RPS6',\t'RPS24',\t'TOMM20',\t'RPL11',\t'RPL9',\t'RPL24',\t'RPS27',\t'RPS8',\t'RSL1D1',\n",
    "# TA:'NDC1',\t'MCM5',\t'MCM8',\t'CENPJ',\t'GGH',\t'HSPD1',\t'TOMM40',\t'PRKDC',\t'LBR',\t'WDR90',\t'GINS2',\t'TELO2',\t'TTF2',\t'WEE1',\t'NOP56',\t'PM20D2',\t'TMEM238',\t'KNTC1',\t'NOLC1',\t'IDH2',\t'AMD1',\t'CMSS1',\t'CASP8AP2',\t'PLP2',\t'RCC1',\t'SHMT1',\t'PRR11',\t'NCL',\t'HMGN5',\t'CACYBP',\t'ETFB',\t'KIF11',\t'NOP58',\t'VRK1',\t'ANP32E',\t'ARL6IP1',\t'ENO1',\t'NCAPD3',\t'PPIH',\t'GGCT',\t'MCM3',\t'MLEC',\t'C1QBP',\t'NCAPG2',\t'HSPA9',\t'FBL',\t'PA2G4',\t'NUDT5',\t'TFAM',\t'TIMM13',\t'C20orf27',\t'FIGNL1',\t'TCOF1',\n",
    "# Paneth:'DEFA5',\t'ITLN2',\t'DEFA6',\t'PRSS2',\t'PLA2G2A',\t'NOTUM',\t'REG3A',\t'RETNLB',\t'AMOT',\t'IFI30',\t'PSMG1',\t'YIPF2',\t'FKBP11',\n",
    "# BEST4:'BEST4','MEIS1','CA7','RHOV','OTOP2','NBPF19','NOTCH2','HES4','NBPF14','ADCY5','ADRA2A','NBPF10','GMNN','CCNYL1','STEAP1','XYLT1','QSOX1','LURAP1L','EXD3','GUCA2A',\t'LAMA3',\t'GPRC5C',\t'NT5E',\t'CEACAM6',\t'CDK18',\t'HES1',\t'PHLDA2',\t'ATG16L2',\t'FKBP1A',\t'SNX30',\t'RNASET2',\t'S100A10',\t'NEURL1',\t'SLC27A2',\t'SDCBP2',\n",
    "# AE/CC:'CA2','AKR1B10','SLC4A4','PCK1','PFKFB2'\n",
    "# Goblet:'MUC2',\t'SYTL1',\t'MLPH',\t'MARVELD1',\t'ZG16',\t'CAPN9',\t'BCAS1',\t'REP15',\t'CAPN8',\t'SYTL2',\t'GALNT8',\t'KCNK6',\t'FCGBP',\t'SPINK4',\t'GALNT5',\t'SLC50A1',\t'SLC39A11',\t'KDELR3',\t'ERN2',\t'KCNMA1',\t'LRRC31',\t'TACC1',\t'PLA2G10',\t'SMIM14',\t'RAP1GAP',\t'RAB27A',\t'TCEA3',\t'FAM107B',\t'SLC22A23',\t'SPDEF',\t'CLCA1',\t'CDC42EP5',\t'CANT1',\t'GALNT12',\t'PODXL',\t'SLC12A8',\t'NANS',\t'CREB3L1',\t'SCNN1A',\t'SEL1L3',\t'FGFR2',\t'MIA3',\t'GFPT1',\t'SGSM3',\t'ATOH1',\t'XBP1',\t'PRIMPOL',\t'MLLT3',\t'SH3PXD2A',\t'SLC35A1',\t'TSPAN13',\t'ANO7',\t'URAD',\t'COG3',\t'FRYL',\t'TTC39A',\t'AGR2',\t'GOLGA2',\t'TFF3',\t'PDIA5',\t'CRACR2A',\t'MB',\t'KDELR2',\t'EIF2AK3',\t'HERPUD1',\t'SLC2A10',\t'ERLEC1',\t'TPSG1',\t'SLC16A7',\t'HID1',\t'COPB2',\t'EDEM3',\t'SLC39A7',\t'FAM83E',\t'WNK4',\t'HES2',\t'TMED3',\t'MUC4',\t'SEC16A',\t'ERGIC1',\t'TAGLN',\t'SLC30A7',\t'MCF2L',\t'PGM3',\t'SEC24D',\t'SLC9A3R2',\t'GALNT7',\t'ARFGAP1',\t'FOXA3',\t'DNAJC10',\t'SSR3',\t'PLXDC2',\t'USO1',\t'FAM174B',\t'GOLGB1',\t'KLF4',\t'TMEM214',\t'ST6GALNAC1',\t'ENTPD8',\t'LARP1B',\t'GNE',\t'PTGER4',\t'B4GALT4',\t'GMPPB',\t'ARL1',\t'MXD4',\t'DHX32',\t'CREB3L4',\t'GORASP2',\t'C3orf52',\t'BLCAP',\t'HDLBP',\t'TM9SF3',\t'PMM2',\t'AL390719.2',\t'FAM110C',\t'LMAN1',\t'TMEM184A',\n",
    "# Tuft:'SERPINA11','PTCHD1','PIK3R5','MATK','PTGS1','TLR9','RGS13','LPA','GNG13','CREG2','FAT3','TAS1R3','ALOX12B','HMX3','LRMP','KLK13','SH2D6','HPGDS','HTR3C','ANXA1',\t'BMX',\t'PLCB2',\t'KLHDC7A',\t'DKK3',\t'LINC02576',\t'PSTPIP2',\t'NCAM1',\t'TRPM5',\t'CMYA5',\t'AVIL',\t'NCMAP',\t'HCK',\t'ALOX5AP',\t'DCLK2',\t'KCNQ4',\t'AC079447.1',\t'TANC2',\t'SH2D7',\t'CSMD1',\t'GFI1B',\t'FLI1',\t'GRIN2B',\t'NRG2',\t'C11orf53',\t'FYB1',\t'OGDHL',\t'FCRL2',\t'HOTAIRM1',\t'DEFB1',\t'ST6GALNAC3',\t'VAV1',\t'SDC2',\t'PTPN18',\t'PREX1',\t'HOXA1',\t'AZGP1',\t'AFAP1L2',\t'FAM122C',\t'CORO2B',\t'BCAM',\t'CCDC69',\t'RUNX2',\t'KIT',\t'LY6H',\t'GAS7',\t'RAC2',\t'SPTLC2',\t'POU2F3',\t'PYGL',\t'IL17RB',\t'PRNP',\t'GRK5',\t'GRASP',\t'ZFHX3',\t'HMCES',\t'GJC3',\t'INPP5D',\t'PITPNC1',\t'RASGRF2',\t'LIPG',\t'CCSER1',\t'RUNX1',\t'UNC5B',\t'CD37',\t'SKAP2',\t'KREMEN2',\t'LYL1',\t'ZNF280B',\t'ALOX5',\t'LRRC56',\t'GPR89A',\t'FAM49A',\t'SNRNP27',\t'PRKAR2B',\t'SUCNR1',\t'COL27A1',\t'TPM2',\t'FURIN',\t'CD14',\t'KRT2',\t'LIMD1',\t'PLCG2',\t'LINC01091',\t'SLC1A4',\t'TRHDE',\t'THOC5',\t'LTC4S',\t'CREG1',\t'PART1',\t'HOXA3',\t'PTPRJ',\t'GPT2',\t'PDE4D',\t'IL13RA1',\t'ADGRG6',\t'EIF1B',\t'FES',\t'MEGF9',\t'RBM38',\t'MYO1B',\t'TUBG2',\t'EPB41L1',\t'OBSL1',\t'PBXIP1',\t'RGL1',\t'ORAI2',\t'SLC6A14',\t'BIK',\t'TLE4',\t'CNP',\t'ANXA4',\t'CKLF',\t'SEC14L1',\t'CLEC2D',\t'INPP5B',\t'CGNL1',\t'VWA1',\t'C19orf57',\t'ASMTL',\t'WIPF1',\t'KMT2C',\t'ATP2A3',\t'SNX9',\t'SLCO4A1-AS1',\t'PRDX4',\t'GPSM3',\t'STK38',\t'TPM1',\t'AP001816.1',\t'AOC1',\t'HCCS',\t'IMP4',\t'ELOVL7',\t'CSK',\t'JMY',\t'PAQR4',\t'CCDC115',\t'IL27RA',\t'NRGN',\t'TMEM9',\t'IFT27',\t'CSF1',\t'ABCB9',\t'APH1B',\t'TMEM176B',\t'MYZAP',\t'MARCKSL1',\t'HSPA4L',\t'TMEM176A',\t'NEIL2',\t'RASSF6',\t'IFI6',\t'SMYD3',\t'ITPR2',\t'KRT18',\t'ACSL4',\t'LMCD1',\t'RHOBTB1',\t'RALGPS2',\t'GDPD5',\t'PELI2',\t'SUPT3H',\t'RSAD1',\t'RAB37',\t'ALMS1',\t'GANC',\t'PTPN6',\t'GCOM1',\t'RHOG',\t'RNF144B',\t'HOMER1',\t'TMEM198',\t'IFT172',\t'STAT1',\t'PSMD9',\t'MTA3',\t'SHROOM2',\t'NRTN',\t'RIMKLB',\t'HLA-E',\t'AP006284.1',\t'CMTM7',\t'IGSF8',\t'ORC2',\t'PMM1',\t'COL9A3',\t'GPR89B',\t'LHPP',\t'KIAA1217',\t'SOX9',\t'ARHGEF2',\t'SIRPA',\t'CCDC92',\t'USP18',\t'TPBG',\t'SPAG9',\t'CDCP1',\t'TOR3A',\t'CAMK2D',\t'MTSS1',\t'GAB2',\t'RAB12',\t'ARHGEF11',\t'CXXC5',\t'FAM217B',\t'SHB',\t'LZTS2',\t'BTBD8',\t'CCDC107',\t'PEAK1',\t'ZNF618',\t'DCP2',\t'GADD45A',\t'SOX13',\t'CHN2',\t'CUL3',\t'PLPP2',\t'LYPLA1',\t'MTIF3',\t'MSI2',\t'ARHGEF35',\t'BIN3',\t'DAPK1',\t'INPP4A',\t'ABHD2',\t'MBNL3',\t'CTSC',\t'EPS15L1',\t'RCAN1',\t'EIF5',\t'SPTLC3',\t'BMT2',\t'KDM4A',\t'NT5C',\t'LINC00920',\t'ORMDL1',\t'RAB4A',\t'MGAT5',\t'RNF14',\t'COBLL1',\t'SRCIN1',\t'CALM2',\t'ITM2C',\t'REEP5',\t'MISP3',\t'ARRDC3',\t'BUB3',\t'STRN3',\t'IGSF3',\t'WDFY3',\t'CSTB',\t'MRPS21',\t'CLRN3',\t'NCK2',\t'TCF7',\t'FKBP9',\t'MAP7',\t'USP28',\t'POC1B',\t'TPD52L1',\t'BBX',\t'MIR200CHG',\t'RAB20',\t'DDX58',\t'RNF24',\t'IFITM2',\t'SAYSD1',\t'PPP1R3D',\t'MPRIP',\t'LUC7L3',\t'RICTOR',\t'HK1',\t'LRRC8B',\t'PRSS3',\t'SORT1',\t'CC2D1A',\t'TWF2',\t'HLA-B',\t'EPDR1',\t'MAX',\t'TMEM74B',\t'CARMIL1',\t'FRY',\t'TIMP1',\t'GLG1',\t'C1GALT1C1',\t'NQO1',\t'SLC2A4RG',\t'ANLN',\t'KRT8',\t'TMEM170A',\t'CLIC5',\t'ITFG1',\t'SPATS2L',\t'DPYSL2',\t'PPDPF',\t'LPAR2',\t'TMEM191B',\t'ASRGL1',\t'GNAI2',\t'SPRY1',\t'SERP2',\t'CNN3',\t'HLA-C',\t'PSAT1',\t'KCNQ1',\t'TMEM30A',\t'TSC22D4',\t'KBTBD2',\t'KALRN',\t'C1RL',\t'NRCAM',\t'HSBP1L1',\t'ORAI3',\t'IFI35',\t'SLCO3A1',\t'MIR29B2CHG',\t'CASP6',\t'MID1',\t'TMEM131L',\t'FAM126B',\t'TMED1',\t'AGRN',\t'TTTY14',\t'PPP2R5C',\t'APP',\t'ATF7IP2',\t'PDLIM5',\t'H1FX',\t'TK2',\t'PLEKHB1',\t'GLCE',\t'PCMTD1',\t'ALAS1',\t'CENPV',\t'CHD9',\t'MAP1LC3B',\t'DAD1',\t'PTPRE',\t'RTN4',\t'PCP4',\t'ADH6',\t'TRAK1',\t'ATXN1',\t'HEXA',\t'HEPACAM2',\t'KLK11',\t'ZMIZ1',\t'AC027644.3',\t'ANKMY2',\t'MSRB2',\t'GALNT2',\t'FUT6',\t'LINC01003',\t'TMEM65',\t'TOR1AIP1',\t'IPMK',\t'PAWR',\t'SKP1',\t'DSG2',\t'FEM1B',\t'LINC01089',\t'AKIRIN2',\t'GMPR',\t'ZDHHC3',\t'CMTM6',\t'VPS28',\t'ANXA13',\t'FGGY',\t'TRIR',\t'TMEM248',\t'PPP2R2A',\t'MECP2',\t'TEX264',\t'C1orf198',\t'MTREX',\t'EHF',\t'ITGB5',\t'RTKN',\t'WASL',\t'VPS8',\t'CCM2',\t'B2M',\t'PTPN2',\t'PPP3CA',\t'USP14',\t'S100A4',\t'ZBTB44',\t'DUSP6',\t'ZNF428',\t'CLMN',\t'CLCN3',\t'TMEM87A',\t'ZMYND8',\t'CRIP1',\t'SDF2',\t'COPRS',\t'HDAC1',\t'CHMP2A',\t'CCDC28B',\t'USP3',\t'DIXDC1',\t'MBD4',\t'CHM',\t'CAPN12',\t'RAB4B',\t'HLA-A',\t'DNAJB6',\t'FBXO32',\t'PDHB',\t'ECH1',\t'CAPZA2',\t'SMIM3',\t'CMTM8',\t'EFHC1',\t'CHPF',\t'ALDH2',\t'LEPROT',\t'ESPN',\t'CDC37L1',\t'USH1C',\t'ISG15',\t'SESN1',\t'MAP4K4',\t'HIST1H2AC',\t'STAU1',\t'ADA2',\t'RBM18',\t'ARPC5',\t'H2AFJ',\t'RARA-AS1',\t'MFSD6',\t'ABI2',\t'CAMTA2',\t'RNF217',\t'RASSF3',\t'PSMB9',\t'C1orf56',\t'KANSL1',\t'POLR2J',\t'PTP4A2',\t'WBP2',\t'SDCBP',\t'WDR1',\t'ACTN1',\t'PSAP',\t'RHBDD2',\t'CDC42SE1',\t'RTF2',\t'YPEL3',\t'MTMR12',\t'WSB1',\t'MAFF',\t'IRF1',\t'TAPBPL',\t'TET2',\t'ARHGEF16',\t'VAPA',\t'PSME1',\t'NDUFC2',\t'MAT2A',\t'GGCX',\t'MMP24OS',\t'CYB5R3',\t'CTSB',\t'SVIP',\t'CLDN12',\t'SPINT1-AS1',\t'TBC1D2B',\t'LACTB',\t'BLOC1S4',\t'IP6K2',\t'N4BP2L2',\t'ADAP1',\t'KREMEN1',\t'UNC50',\t'PRPSAP1',\t'MYL6',\t'ZRSR2',\t'HIP1R',\t'NEURL1B',\t'ZRANB1',\t'SIGIRR',\t'B3GAT3',\t'ARGLU1',\t'HMOX1',\t'TMEM59',\t'CHD6',\t'UBB',\t'SLC25A13',\t'SRGAP2',\t'MCRIP1',\t'F11R',\t'ZBTB8OS',\t'RABGAP1L',\t'ACTB',\t'FCHO2',\t'ZNF483',\t'CCND3',\t'TAF7',\t'PAFAH1B1',\t'RP9',\t'FAM171A1',\t'PHC1',\t'OAZ2',\t'NEK6',\t'FGFR4',\t'CLK3',\t'COX17',\t'BLM',\t'GDPD1',\t'COX20',\t'RBM8A',\t'DCPS',\t'MIEN1',\t'TMEM179B',\t'PHKB',\t'LAPTM4A',\t'ZNF430',\t'UGT8',\t'LASP1',\t'RNF5',\t'KRT7',\t'PGK1',\t'OAZ1',\t'NCOR1',\t'EMP3',\t'RSRC2',\t'LITAF',\t'GPR137B',\t'PPP1R11',\t'GTF2B',\t'TM2D1',\t'SNX14',\t'TGOLN2',\t'UBE2H',\t'CIRBP',\t'TTC1',\t'IFI27L2',\t'DDX5',\t'ARHGAP12',\t'NECAP1',\t'ARHGEF38',\t'SPCS2',\t'GRK6',\t'IFT43',\t'CGGBP1',\t'LNX1',\t'TAX1BP1',\t'MALAT1',\t'OSGIN2',\t'NFATC3',\t'TRAM2',\t'PRKCD',\t'MACC1',\t'DYNLT1',\t'PRMT2',\t'FDFT1',\t'PPM1H',\t'CSRP1',\t'PLA2G4A',\t'HEBP2',\t'CSNK1A1',\t'RGL2',\t'MGAM2',\t'ARL8A',\t'SLC4A2',\t'DHRSX',\t'LINC00685',\t'GMCL1',\t'YPEL2',\t'VPS26A',\t'CDC42',\t'RHOA',\t'MAP4K3',\t'ACTR8',\t'HIST1H1C',\t'TMCO1',\t'TCEA1',\t'EPHA4',\t'RASSF7',\t'TMEM63A',\t'IGF2R',\t'CDK19',\t'PRR34-AS1',\t'RAE1',\t'ATP6V1E1',\t'SELENOT',\t'PCCB',\t'ZNF226',\t'CDC5L',\n",
    "\n",
    "# EEC:'MARCH4'\t'CHGA',\t'CHGB',\t'SCG2',\t'STXBP5L',\t'SCGN',\t'CRYBA2',\t'PYY',\t'SLC26A7',\t'TPH1',\t'RAB3C',\t'PAX6',\t'CPLX2',\t'UCN3',\t'SCT',\t'AC024610.2',\t'TTR',\t'ARX',\t'ABCC8',\t'AMER3',\t'C3orf80',\t'RUNX1T1',\t'RUNDC3A',\t'GNG2',\t'ETV1',\t'IGFBP3',\t'CPE',\t'PAX4',\t'CACNA1A',\t'CNIH2',\t'SCG5',\t'TSPAN2',\t'UNC13A',\t'GPBAR1',\t'KCNMB2',\t'RIIAD1',\t'KIF5C',\t'CDHR3',\t'AC022893.2',\t'GNAO1',\t'SSTR2',\t'KCNB2',\t'KCNK3',\t'BAIAP3',\t'SLC38A11',\t'CELF3',\t'PCSK1N',\t'NPW',\t'VWA5B2',\t'SLC29A4',\t'LINC00907',\t'BCAS4',\t'PAM',\t'NKX2-2',\t'QDPR',\t'GCH1',\t'VSTM2L',\t'SPATC1L',\t'F10',\t'C12orf75',\t'C9orf16',\t'CXXC4',\t'RFX3',\t'DDC',\t'INSM1',\t'C7',\t'RGS2',\t'TRMT9B',\t'NISCH',\t'GCLM',\t'RAP1GAP2',\t'SYT13',\t'ISYNA1',\t'AL133325.3',\t'ASGR1',\t'METRN',\t'CACNA2D1',\t'OTULINL',\t'MYL6B',\t'BEX3',\t'FOXA1',\t'BEX2',\t'TRNP1',\t'ELL2',\t'VPS13A',\t'QPCT',\t'PKM',\t'MS4A8',\t'GNAS',\t'GUCY2C',\t'COX7A2L',\t'ARFGEF3',\t'SNRPN',\t'UCP2',\t'SLC8A1',\t'SEC11C',\t'VEGFB',\t'RNASEH2C',\t'PTMS',\t'CDKN1C',\t'ERI3',\t'POLR2L',\t'HMGN3',\t'MDK',\n",
    "\n",
    "adata = mp.scale_adata(adata, groupby = 'lineage')\n",
    "sc.pl.dotplot(adata, var_names=gene_list, groupby = 'lineage', swap_axes=True, layer = 'raw_scaled', save = 'Tuft_Top20')\n"
   ]
  }
 ],
 "metadata": {
  "kernelspec": {
   "display_name": "RNAseq Python",
   "language": "python",
   "name": "rnaseq"
  },
  "language_info": {
   "codemirror_mode": {
    "name": "ipython",
    "version": 3
   },
   "file_extension": ".py",
   "mimetype": "text/x-python",
   "name": "python",
   "nbconvert_exporter": "python",
   "pygments_lexer": "ipython3",
   "version": "3.8.5"
  }
 },
 "nbformat": 4,
 "nbformat_minor": 4
}
