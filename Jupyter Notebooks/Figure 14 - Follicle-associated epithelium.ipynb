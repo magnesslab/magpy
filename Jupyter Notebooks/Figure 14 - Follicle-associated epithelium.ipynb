{
 "cells": [
  {
   "cell_type": "code",
   "execution_count": null,
   "metadata": {
    "code_folding": []
   },
   "outputs": [],
   "source": [
    "### IMPORT LIBRARIES ###\n",
    "import magpy as mp\n",
    "import scanpy as sc\n",
    "import matplotlib.pyplot as plt\n",
    "import numpy as np\n",
    "\n",
    "\n",
    "\n",
    "\n",
    "\n",
    "combined_path = \"/proj/magness/CDS010-014-015_combined\"\n",
    "sc.settings.figdir = expt_path+\"/FAE\"\n",
    "adata = mp.load(combined_path, 'clustered_annotated_adata_k25_lr0.92_v1.5.h5ad')"
   ]
  },
  {
   "cell_type": "code",
   "execution_count": null,
   "metadata": {},
   "outputs": [],
   "source": [
    "##Figure 14A - adata = mp.load(expt_path, \"clustered_annotated_adata_k25_lr0.92_v1.5.h5ad\")\n",
    "\n",
    "m_genes = ['EPCAM','SOX8','CCL20','GP2','SPIB','LYZ','TRAF6','CLDN4','TNFRSF11A']\n",
    "m_genes += ['CCL15','CCL23','CCL25','ICAM1','ICAM2','TNFAIP2','TNFAIP3','HLA-F','HLA-G','C2']\n",
    "non_m_genes = ['MARCKSL1','ANXAS','CCL36','CXCL16','SCG5','TNFRSF9','CCL9','CCL6','PGLYRP1']\n",
    "\n",
    "\n",
    "adata = mp.scale_adata(adata,groupby='lineage')\n",
    "sc.pl.dotplot(adata,m_genes,groupby='lineage',swap_axes=True,layer='raw_scaled',save='_FAE_v2.svg')\n",
    "sc.pl.dotplot*adata, non_m_genes, groupby = 'lineage', swap_axes = True, layer = 'raw_scaled')"
   ]
  },
  {
   "cell_type": "code",
   "execution_count": null,
   "metadata": {},
   "outputs": [],
   "source": [
    "##Figure 14B\n",
    "\n",
    "gene_list = ['CSF2RB','NPPC','RASSF2','SOX8','CCL23','GJB4','XG','AC009041.2','ITGAM','CALHM6','TACSTD2','PTAFR','LTB','SYNPO2','NPB','MIA','LINC02384','SLC9A9',\n",
    "             'HTR2B','WEE2','DAPP1','ICAM2','S100A9','GALNT18','PLAU']\n",
    "\n",
    "sc.pl.dotplot(adata, gene_list, groupby = 'lineage', swap_axes = True, layer = 'raw_scaled')"
   ]
  }
 ],
 "metadata": {
  "kernelspec": {
   "display_name": "RNAseq Python",
   "language": "python",
   "name": "rnaseq"
  },
  "language_info": {
   "codemirror_mode": {
    "name": "ipython",
    "version": 3
   },
   "file_extension": ".py",
   "mimetype": "text/x-python",
   "name": "python",
   "nbconvert_exporter": "python",
   "pygments_lexer": "ipython3",
   "version": "3.8.5"
  }
 },
 "nbformat": 4,
 "nbformat_minor": 4
}
